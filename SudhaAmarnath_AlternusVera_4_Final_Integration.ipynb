{
 "cells": [
  {
   "cell_type": "code",
   "execution_count": 1,
   "metadata": {
    "colab": {
     "base_uri": "https://localhost:8080/",
     "height": 86
    },
    "colab_type": "code",
    "executionInfo": {
     "elapsed": 2748,
     "status": "ok",
     "timestamp": 1577042530102,
     "user": {
      "displayName": "Sudha Amarnath",
      "photoUrl": "https://lh3.googleusercontent.com/a-/AAuE7mBZtYDvsuz9vr0wUG3i4neUONV8jvt2jMiXIzGg=s64",
      "userId": "05147347111957559994"
     },
     "user_tz": 480
    },
    "id": "BNLs3zv8thm5",
    "outputId": "fbba1c30-26f4-41b9-b0f7-c559a6a1ed16",
    "scrolled": false
   },
   "outputs": [
    {
     "name": "stdout",
     "output_type": "stream",
     "text": [
      "[nltk_data] Downloading package averaged_perceptron_tagger to\n",
      "[nltk_data]     /root/nltk_data...\n",
      "[nltk_data]   Unzipping taggers/averaged_perceptron_tagger.zip.\n"
     ]
    },
    {
     "data": {
      "text/plain": [
       "True"
      ]
     },
     "execution_count": 1,
     "metadata": {
      "tags": []
     },
     "output_type": "execute_result"
    }
   ],
   "source": [
    "import pickle\n",
    "import pandas as pd\n",
    "import nltk\n",
    "nltk.download('averaged_perceptron_tagger')"
   ]
  },
  {
   "cell_type": "code",
   "execution_count": 2,
   "metadata": {
    "colab": {
     "base_uri": "https://localhost:8080/",
     "height": 349
    },
    "colab_type": "code",
    "executionInfo": {
     "elapsed": 31705,
     "status": "ok",
     "timestamp": 1577042559083,
     "user": {
      "displayName": "Sudha Amarnath",
      "photoUrl": "https://lh3.googleusercontent.com/a-/AAuE7mBZtYDvsuz9vr0wUG3i4neUONV8jvt2jMiXIzGg=s64",
      "userId": "05147347111957559994"
     },
     "user_tz": 480
    },
    "id": "6Cmk581Etwtd",
    "outputId": "bf3ff354-da96-4a0d-ea04-763fe35a5131"
   },
   "outputs": [
    {
     "name": "stdout",
     "output_type": "stream",
     "text": [
      "Go to this URL in a browser: https://accounts.google.com/o/oauth2/auth?client_id=947318989803-6bn6qk8qdgf4n4g3pfee6491hc0brc4i.apps.googleusercontent.com&redirect_uri=urn%3aietf%3awg%3aoauth%3a2.0%3aoob&response_type=code&scope=email%20https%3a%2f%2fwww.googleapis.com%2fauth%2fdocs.test%20https%3a%2f%2fwww.googleapis.com%2fauth%2fdrive%20https%3a%2f%2fwww.googleapis.com%2fauth%2fdrive.photos.readonly%20https%3a%2f%2fwww.googleapis.com%2fauth%2fpeopleapi.readonly\n",
      "\n",
      "Enter your authorization code:\n",
      "··········\n",
      "Mounted at /content/drive\n",
      "Changing directory to the Project Directory\n",
      "/content/drive/My Drive/AlternusVeraDataSets2019/Spartans/Sudha\n",
      " AlternusVera2_SudhaAmarnath.mp4\n",
      " AlternusVera_3_RunFile.ipynb\n",
      " AlternusVeraSprint3_SudhaAmarnath.mp4\n",
      " classes\n",
      " input_data\n",
      " models\n",
      " Spartans_AlternusVera_4_Final_Integration.ipynb\n",
      " Spartans_AlternusVera_4_Final_Workbook.ipynb\n",
      "'Sudha_Amarnath(013709956)_AlternusVeraIndividual_3.ipynb'\n",
      "'Sudha_Amarnath(013709956)_AlternusVeraIndividual.ipynb'\n",
      "/content/drive/My Drive/AlternusVeraDataSets2019/Spartans/Sudha\n"
     ]
    }
   ],
   "source": [
    "colab = True\n",
    "if colab is True:\n",
    "    from google.colab import drive\n",
    "    drive.mount('/content/drive', force_remount=True)\n",
    "    basedir = '/content/drive/My Drive/AlternusVeraDataSets2019/Spartans/Sudha/'\n",
    "    print('Changing directory to the Project Directory')\n",
    "    %cd /content/drive/My Drive/AlternusVeraDataSets2019/Spartans/Sudha/\n",
    "    !ls\n",
    "    !pwd\n",
    "else:\n",
    "    basedir = '/Users/admin/AlternusVeraDataSets2019/Spartans/Sudha/'\n",
    "\n",
    "import pickle\n",
    "basedir = pickle.load(open('./models/basedir.pkl', 'rb'))\n",
    "trainfile = basedir + 'input_data/processed/trainnews_d2v_processed.csv'\n",
    "testfile = basedir + 'input_data/processed/testnews_d2v_processed.csv'\n",
    "\n",
    "global dataTrain\n",
    "global accscore\n",
    "\n",
    "dataTrain = pd.read_csv(trainfile, sep=',')\n",
    "dataTest = pd.read_csv(testfile, sep=',')\n"
   ]
  },
  {
   "cell_type": "code",
   "execution_count": 3,
   "metadata": {
    "colab": {
     "base_uri": "https://localhost:8080/",
     "height": 852
    },
    "colab_type": "code",
    "executionInfo": {
     "elapsed": 175980,
     "status": "ok",
     "timestamp": 1577042703368,
     "user": {
      "displayName": "Sudha Amarnath",
      "photoUrl": "https://lh3.googleusercontent.com/a-/AAuE7mBZtYDvsuz9vr0wUG3i4neUONV8jvt2jMiXIzGg=s64",
      "userId": "05147347111957559994"
     },
     "user_tz": 480
    },
    "id": "khaLYMl1tvwP",
    "outputId": "e138d772-6ab6-41b8-86a2-c0211328c137"
   },
   "outputs": [
    {
     "name": "stdout",
     "output_type": "stream",
     "text": [
      "[nltk_data] Downloading package stopwords to /root/nltk_data...\n",
      "[nltk_data]   Unzipping corpora/stopwords.zip.\n",
      "News Coverage Model Trained - accuracy:   0.495659\n",
      "Sensational Feature Prediction - accuracy:   0.590371\n",
      "Index(['headline_text', 'clean', 'vader_polarity', 'sentiment_score'], dtype='object')\n",
      "Sentiment Analysis Model Trained - accuracy:   0.951855\n",
      "Party Affiliation Model Trained - accuracy:   0.565436\n",
      "Clickbait Model Trained - accuracy:   0.976875\n",
      "Spam Score Model Trained - accuracy:   0.563191\n",
      "trueZeroAuthors= 13\n",
      "fakeZeroAuthors= 85\n",
      "trueOneAuthors= 36\n",
      "fakeOneAuthors= 24\n",
      "trueMoreThanOneAuthors= 71\n",
      "fakeMoreThanOneAuthors= 11\n",
      "accuracy= 0.8421052631578947\n",
      "Author Credibility Trained - accuracy:   0.842105\n"
     ]
    },
    {
     "data": {
      "text/html": [
       "<div>\n",
       "<style scoped>\n",
       "    .dataframe tbody tr th:only-of-type {\n",
       "        vertical-align: middle;\n",
       "    }\n",
       "\n",
       "    .dataframe tbody tr th {\n",
       "        vertical-align: top;\n",
       "    }\n",
       "\n",
       "    .dataframe thead th {\n",
       "        text-align: right;\n",
       "    }\n",
       "</style>\n",
       "<table border=\"1\" class=\"dataframe\">\n",
       "  <thead>\n",
       "    <tr style=\"text-align: right;\">\n",
       "      <th></th>\n",
       "      <th>site name</th>\n",
       "      <th>type of site</th>\n",
       "      <th>registration</th>\n",
       "    </tr>\n",
       "  </thead>\n",
       "  <tbody>\n",
       "    <tr>\n",
       "      <th>0</th>\n",
       "      <td>16wmpo.com</td>\n",
       "      <td>imposter site</td>\n",
       "      <td>scottsdale, ariz. **</td>\n",
       "    </tr>\n",
       "    <tr>\n",
       "      <th>1</th>\n",
       "      <td>24online.news</td>\n",
       "      <td>imposter site</td>\n",
       "      <td>panama, pa. **</td>\n",
       "    </tr>\n",
       "    <tr>\n",
       "      <th>2</th>\n",
       "      <td>24wpn.com</td>\n",
       "      <td>fake news</td>\n",
       "      <td>veles, macedonia</td>\n",
       "    </tr>\n",
       "    <tr>\n",
       "      <th>3</th>\n",
       "      <td>24x365live.com</td>\n",
       "      <td>fake news</td>\n",
       "      <td>kobenhavn, denmark</td>\n",
       "    </tr>\n",
       "    <tr>\n",
       "      <th>4</th>\n",
       "      <td>247newsmedia.com</td>\n",
       "      <td>fake news</td>\n",
       "      <td>kumanovo, macedonia</td>\n",
       "    </tr>\n",
       "  </tbody>\n",
       "</table>\n",
       "</div>"
      ],
      "text/plain": [
       "          site name   type of site          registration\n",
       "0        16wmpo.com  imposter site  scottsdale, ariz. **\n",
       "1     24online.news  imposter site        panama, pa. **\n",
       "2         24wpn.com      fake news      veles, macedonia\n",
       "3    24x365live.com      fake news   kobenhavn, denmark \n",
       "4  247newsmedia.com      fake news   kumanovo, macedonia"
      ]
     },
     "metadata": {
      "tags": []
     },
     "output_type": "display_data"
    },
    {
     "name": "stdout",
     "output_type": "stream",
     "text": [
      "['imposter site' 'fake news' 'parody site' 'some fake stories']\n",
      "Model slope:     2.8672921260228002e-05\n",
      "Model intercept: 0.41180985978637996\n",
      "R2 score: 0.04612397796223422\n",
      "Source Content - accuracy:   0.710526\n",
      "Word Frequency Model Trained - accuracy:   0.599053\n"
     ]
    },
    {
     "data": {
      "image/png": "[encoded data removed]",
      "text/plain": [
       "<Figure size 432x288 with 1 Axes>"
      ]
     },
     "metadata": {
      "tags": []
     },
     "output_type": "display_data"
    }
   ],
   "source": [
    "\n",
    "\n",
    "from classes import NewsCoverage\n",
    "from classes import SensationalPrediction\n",
    "from classes import SentimentAnalysis\n",
    "from classes import PartyAffiliation\n",
    "from classes import Clickbait\n",
    "from classes import SpamScoreFeature\n",
    "from classes import AuthorCredibility\n",
    "from classes import SourceReputation\n",
    "from classes import SourceContent\n",
    "from classes import WordFrequency\n",
    "\n",
    "\n",
    "\n",
    "\n",
    "newsCoverage = NewsCoverage()\n",
    "sensationalPrediction = SensationalPrediction()\n",
    "sentimentAnalysis = SentimentAnalysis()\n",
    "partyAffiliation = PartyAffiliation()\n",
    "clickbait = Clickbait()\n",
    "spamScoreFeature = SpamScoreFeature()\n",
    "authorCredibility = AuthorCredibility()\n",
    "sourceReputation = SourceReputation()\n",
    "sourceContent = SourceContent()\n",
    "wordFrequency = WordFrequency()\n"
   ]
  },
  {
   "cell_type": "code",
   "execution_count": 0,
   "metadata": {
    "colab": {},
    "colab_type": "code",
    "id": "DT2cSe6hthnK"
   },
   "outputs": [],
   "source": [
    "def isValidNews(headline_text, party=\"\", print_news=True):\n",
    "    \n",
    "    accur = [newsCoverage.getScore(), \n",
    "             sensationalPrediction.getScore(),\n",
    "             sentimentAnalysis.getScore(),\n",
    "             partyAffiliation.getScore(),\n",
    "             clickbait.getScore(),\n",
    "             spamScoreFeature.getScore()] # using the (normalized) accuracy as weigths for \n",
    "    w = [float(i)/sum(accur) for i in accur]\n",
    "    sumW = 0\n",
    "    prob = []\n",
    "    prob.append(w[0] * newsCoverage.predictScore(headline_text))\n",
    "    sumW += w[0]\n",
    "    prob.append(w[1] * sensationalPrediction.predictScore(headline_text))\n",
    "    sumW += w[1]\n",
    "    prob.append(w[2] * sentimentAnalysis.predictScore(headline_text))\n",
    "    sumW += w[2]\n",
    "    prob.append(w[3] * partyAffiliation.predictScore(headline_text,party))\n",
    "    sumW += w[3]\n",
    "    prob.append(w[4] * clickbait.predictScore(headline_text))\n",
    "    sumW += w[4]\n",
    "    prob.append(w[5] * spamScoreFeature.predictScore(headline_text))\n",
    "    sumW += w[5]\n",
    " \n",
    " \n",
    "    #prob.append(w[6] * sourceContent.predictScore(len(headline_text.split())))\n",
    "    #sumW += w[6]\n",
    "\n",
    "    #prob.append(w[7] * wordFrequency.predictScore(headline_text)\n",
    "    #sumW += w[7]\n",
    "\n",
    "    \n",
    "    probTotal = sum(prob[0:len(prob)]) / sumW\n",
    "    if print_news is True:\n",
    "      if probTotal > 0.5:\n",
    "          print('Valid News:', 'Score:', probTotal, 'name:', headline_text)\n",
    "      else:\n",
    "          print('Fake  News:', 'Score:', probTotal, 'name:', headline_text)\n",
    "        \n",
    "    return probTotal"
   ]
  },
  {
   "cell_type": "code",
   "execution_count": 5,
   "metadata": {
    "colab": {
     "base_uri": "https://localhost:8080/",
     "height": 34
    },
    "colab_type": "code",
    "executionInfo": {
     "elapsed": 175962,
     "status": "ok",
     "timestamp": 1577042703372,
     "user": {
      "displayName": "Sudha Amarnath",
      "photoUrl": "https://lh3.googleusercontent.com/a-/AAuE7mBZtYDvsuz9vr0wUG3i4neUONV8jvt2jMiXIzGg=s64",
      "userId": "05147347111957559994"
     },
     "user_tz": 480
    },
    "id": "yy-I5ib3thnM",
    "outputId": "2c081277-43a8-4a42-9b45-67b48f9030a6",
    "scrolled": true
   },
   "outputs": [
    {
     "data": {
      "text/plain": [
       "0.5242166357529723"
      ]
     },
     "execution_count": 5,
     "metadata": {
      "tags": []
     },
     "output_type": "execute_result"
    }
   ],
   "source": [
    "isValidNews('Says the Annies List political group supports third-trimester abortions on demand.', 'republican', 4)"
   ]
  },
  {
   "cell_type": "code",
   "execution_count": 0,
   "metadata": {
    "colab": {},
    "colab_type": "code",
    "id": "YUh0y071thnP"
   },
   "outputs": [],
   "source": []
  },
  {
   "cell_type": "code",
   "execution_count": 6,
   "metadata": {
    "colab": {
     "base_uri": "https://localhost:8080/",
     "height": 190
    },
    "colab_type": "code",
    "executionInfo": {
     "elapsed": 175947,
     "status": "ok",
     "timestamp": 1577042703374,
     "user": {
      "displayName": "Sudha Amarnath",
      "photoUrl": "https://lh3.googleusercontent.com/a-/AAuE7mBZtYDvsuz9vr0wUG3i4neUONV8jvt2jMiXIzGg=s64",
      "userId": "05147347111957559994"
     },
     "user_tz": 480
    },
    "id": "HrDWgeKtthnY",
    "outputId": "814ace21-82ee-4222-9cab-e9f725d3c8d9"
   },
   "outputs": [
    {
     "data": {
      "text/plain": [
       "Index(['Unnamed: 0', 'jsonid', 'label', 'headline_text', 'subject', 'speaker',\n",
       "       'speakerjobtitle', 'stateinfo', 'partyaffiliation', 'barelytruecounts',\n",
       "       'falsecounts', 'halftruecounts', 'mostlytrueocunts',\n",
       "       'pantsonfirecounts', 'context', 'clean', 'cleanlist', 'topics',\n",
       "       'topicsparsedlist', 'topicsparsed', 'doc2vector_values', 'topdoc0',\n",
       "       'doc2vec0', 'doc2vec1', 'doc2vec2', 'doc2vectop1', 'doc2vectop25',\n",
       "       'doc2vectop50', 'doc2vectop75', 'doc2veclast', 'midabovezero',\n",
       "       'score0minus1', 'score1minus2', 'score0minus2', 'score0minustop1',\n",
       "       'doc2vecsimilarity', 'encoded_label'],\n",
       "      dtype='object')"
      ]
     },
     "execution_count": 6,
     "metadata": {
      "tags": []
     },
     "output_type": "execute_result"
    }
   ],
   "source": [
    "dataTrain.columns\n"
   ]
  },
  {
   "cell_type": "code",
   "execution_count": 0,
   "metadata": {
    "colab": {},
    "colab_type": "code",
    "id": "IJIAAvCmthnb",
    "scrolled": false
   },
   "outputs": [],
   "source": [
    "import warnings\n",
    "warnings.filterwarnings('ignore')\n",
    "\n",
    "predicted_news_processed = basedir + 'input_data/processed/predicted_news_processed.csv'\n",
    "\n",
    "predictedNewsDf = pd.DataFrame(columns=['valid_news', 'predict_score', 'headline_text'])\n",
    "\n",
    "for index, row in dataTrain.iterrows():\n",
    "    name= row['headline_text']\n",
    "    party = row['partyaffiliation']\n",
    "    pred = isValidNews(name, party, False)\n",
    "    predictedNewsDf.at[index, 'valid_news'] = True if pred >= .5 else False\n",
    "    predictedNewsDf.at[index, 'predict_score'] = pred\n",
    "    predictedNewsDf.at[index, 'headline_text'] = name\n",
    "\n",
    "predictedNewsDf.to_csv(predicted_news_processed, sep=',')\n"
   ]
  },
  {
   "cell_type": "code",
   "execution_count": 8,
   "metadata": {
    "colab": {
     "base_uri": "https://localhost:8080/",
     "height": 202
    },
    "colab_type": "code",
    "executionInfo": {
     "elapsed": 453873,
     "status": "ok",
     "timestamp": 1577042981315,
     "user": {
      "displayName": "Sudha Amarnath",
      "photoUrl": "https://lh3.googleusercontent.com/a-/AAuE7mBZtYDvsuz9vr0wUG3i4neUONV8jvt2jMiXIzGg=s64",
      "userId": "05147347111957559994"
     },
     "user_tz": 480
    },
    "id": "bbNh3cC9thnd",
    "outputId": "f19261cb-a9c7-4fd0-f96f-a07dce085350"
   },
   "outputs": [
    {
     "data": {
      "text/html": [
       "<div>\n",
       "<style scoped>\n",
       "    .dataframe tbody tr th:only-of-type {\n",
       "        vertical-align: middle;\n",
       "    }\n",
       "\n",
       "    .dataframe tbody tr th {\n",
       "        vertical-align: top;\n",
       "    }\n",
       "\n",
       "    .dataframe thead th {\n",
       "        text-align: right;\n",
       "    }\n",
       "</style>\n",
       "<table border=\"1\" class=\"dataframe\">\n",
       "  <thead>\n",
       "    <tr style=\"text-align: right;\">\n",
       "      <th></th>\n",
       "      <th>valid_news</th>\n",
       "      <th>predict_score</th>\n",
       "      <th>headline_text</th>\n",
       "    </tr>\n",
       "  </thead>\n",
       "  <tbody>\n",
       "    <tr>\n",
       "      <th>0</th>\n",
       "      <td>True</td>\n",
       "      <td>0.524217</td>\n",
       "      <td>Says the Annies List political group supports ...</td>\n",
       "    </tr>\n",
       "    <tr>\n",
       "      <th>1</th>\n",
       "      <td>True</td>\n",
       "      <td>0.759055</td>\n",
       "      <td>When did the decline of coal start? It started...</td>\n",
       "    </tr>\n",
       "    <tr>\n",
       "      <th>2</th>\n",
       "      <td>True</td>\n",
       "      <td>0.564048</td>\n",
       "      <td>Hillary Clinton agrees with John McCain \"by vo...</td>\n",
       "    </tr>\n",
       "    <tr>\n",
       "      <th>3</th>\n",
       "      <td>True</td>\n",
       "      <td>0.501207</td>\n",
       "      <td>Health care reform legislation is likely to ma...</td>\n",
       "    </tr>\n",
       "    <tr>\n",
       "      <th>4</th>\n",
       "      <td>True</td>\n",
       "      <td>0.721772</td>\n",
       "      <td>The economic turnaround started at the end of ...</td>\n",
       "    </tr>\n",
       "  </tbody>\n",
       "</table>\n",
       "</div>"
      ],
      "text/plain": [
       "  valid_news predict_score                                      headline_text\n",
       "0       True      0.524217  Says the Annies List political group supports ...\n",
       "1       True      0.759055  When did the decline of coal start? It started...\n",
       "2       True      0.564048  Hillary Clinton agrees with John McCain \"by vo...\n",
       "3       True      0.501207  Health care reform legislation is likely to ma...\n",
       "4       True      0.721772  The economic turnaround started at the end of ..."
      ]
     },
     "execution_count": 8,
     "metadata": {
      "tags": []
     },
     "output_type": "execute_result"
    }
   ],
   "source": [
    "predictedNewsDf.head()"
   ]
  },
  {
   "cell_type": "code",
   "execution_count": 0,
   "metadata": {
    "colab": {},
    "colab_type": "code",
    "id": "F0IvvvXZthno"
   },
   "outputs": [],
   "source": []
  }
 ],
 "metadata": {
  "colab": {
   "collapsed_sections": [],
   "name": "Spartans_AlternusVera_4_Final_Integration.ipynb",
   "provenance": []
  },
  "kernelspec": {
   "display_name": "Python 3",
   "language": "python",
   "name": "python3"
  },
  "language_info": {
   "codemirror_mode": {
    "name": "ipython",
    "version": 3
   },
   "file_extension": ".py",
   "mimetype": "text/x-python",
   "name": "python",
   "nbconvert_exporter": "python",
   "pygments_lexer": "ipython3",
   "version": "3.7.3"
  }
 },
 "nbformat": 4,
 "nbformat_minor": 1
}
